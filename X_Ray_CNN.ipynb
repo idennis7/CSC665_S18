{
 "cells": [
  {
   "cell_type": "code",
   "execution_count": 1,
   "metadata": {},
   "outputs": [],
   "source": [
    "import numpy as np  # linear alg\n",
    "import pandas as pd  # data processing \n",
    "import os\n",
    "from glob import glob  # file searching\n",
    "%matplotlib inline\n",
    "import matplotlib.pyplot as plt  # plotting"
   ]
  },
  {
   "cell_type": "code",
   "execution_count": 2,
   "metadata": {},
   "outputs": [],
   "source": [
    "# Setting up access to the images and csv\n",
    "\n",
    "PATH = os.path.abspath('./data')\n",
    "SOURCE_IMAGES = os.path.join(PATH, \"images\")\n",
    "images = glob(os.path.join(SOURCE_IMAGES, \"*.png\"))\n",
    "xray_labels_df = pd.read_csv(os.path.join(PATH, 'sample_labels.csv'))"
   ]
  },
  {
   "cell_type": "code",
   "execution_count": 3,
   "metadata": {
    "scrolled": true
   },
   "outputs": [
    {
     "data": {
      "text/html": [
       "<div>\n",
       "<style scoped>\n",
       "    .dataframe tbody tr th:only-of-type {\n",
       "        vertical-align: middle;\n",
       "    }\n",
       "\n",
       "    .dataframe tbody tr th {\n",
       "        vertical-align: top;\n",
       "    }\n",
       "\n",
       "    .dataframe thead th {\n",
       "        text-align: right;\n",
       "    }\n",
       "</style>\n",
       "<table border=\"1\" class=\"dataframe\">\n",
       "  <thead>\n",
       "    <tr style=\"text-align: right;\">\n",
       "      <th></th>\n",
       "      <th>Image Index</th>\n",
       "      <th>Finding Labels</th>\n",
       "      <th>Follow-up #</th>\n",
       "      <th>Patient ID</th>\n",
       "      <th>Patient Age</th>\n",
       "      <th>Patient Gender</th>\n",
       "      <th>View Position</th>\n",
       "      <th>OriginalImageWidth</th>\n",
       "      <th>OriginalImageHeight</th>\n",
       "      <th>OriginalImagePixelSpacing_x</th>\n",
       "      <th>OriginalImagePixelSpacing_y</th>\n",
       "      <th>path</th>\n",
       "    </tr>\n",
       "  </thead>\n",
       "  <tbody>\n",
       "    <tr>\n",
       "      <th>400</th>\n",
       "      <td>00002066_014.png</td>\n",
       "      <td>Nodule</td>\n",
       "      <td>14</td>\n",
       "      <td>2066</td>\n",
       "      <td>80</td>\n",
       "      <td>M</td>\n",
       "      <td>PA</td>\n",
       "      <td>2992</td>\n",
       "      <td>2991</td>\n",
       "      <td>0.143</td>\n",
       "      <td>0.143</td>\n",
       "      <td>/Users/dennisi1/Code/school/csc665/term_projec...</td>\n",
       "    </tr>\n",
       "    <tr>\n",
       "      <th>1849</th>\n",
       "      <td>00009736_008.png</td>\n",
       "      <td>Effusion|Emphysema</td>\n",
       "      <td>8</td>\n",
       "      <td>9736</td>\n",
       "      <td>66</td>\n",
       "      <td>F</td>\n",
       "      <td>AP</td>\n",
       "      <td>2500</td>\n",
       "      <td>2048</td>\n",
       "      <td>0.168</td>\n",
       "      <td>0.168</td>\n",
       "      <td>/Users/dennisi1/Code/school/csc665/term_projec...</td>\n",
       "    </tr>\n",
       "    <tr>\n",
       "      <th>2665</th>\n",
       "      <td>00013440_001.png</td>\n",
       "      <td>No Finding</td>\n",
       "      <td>1</td>\n",
       "      <td>13440</td>\n",
       "      <td>17</td>\n",
       "      <td>M</td>\n",
       "      <td>PA</td>\n",
       "      <td>2992</td>\n",
       "      <td>2991</td>\n",
       "      <td>0.143</td>\n",
       "      <td>0.143</td>\n",
       "      <td>/Users/dennisi1/Code/school/csc665/term_projec...</td>\n",
       "    </tr>\n",
       "  </tbody>\n",
       "</table>\n",
       "</div>"
      ],
      "text/plain": [
       "           Image Index      Finding Labels  Follow-up #  Patient ID  \\\n",
       "400   00002066_014.png              Nodule           14        2066   \n",
       "1849  00009736_008.png  Effusion|Emphysema            8        9736   \n",
       "2665  00013440_001.png          No Finding            1       13440   \n",
       "\n",
       "      Patient Age Patient Gender View Position  OriginalImageWidth  \\\n",
       "400            80              M            PA                2992   \n",
       "1849           66              F            AP                2500   \n",
       "2665           17              M            PA                2992   \n",
       "\n",
       "      OriginalImageHeight  OriginalImagePixelSpacing_x  \\\n",
       "400                  2991                        0.143   \n",
       "1849                 2048                        0.168   \n",
       "2665                 2991                        0.143   \n",
       "\n",
       "      OriginalImagePixelSpacing_y  \\\n",
       "400                         0.143   \n",
       "1849                        0.168   \n",
       "2665                        0.143   \n",
       "\n",
       "                                                   path  \n",
       "400   /Users/dennisi1/Code/school/csc665/term_projec...  \n",
       "1849  /Users/dennisi1/Code/school/csc665/term_projec...  \n",
       "2665  /Users/dennisi1/Code/school/csc665/term_projec...  "
      ]
     },
     "execution_count": 3,
     "metadata": {},
     "output_type": "execute_result"
    }
   ],
   "source": [
    "all_image_paths = {os.path.basename(x): x for x in images}\n",
    "\n",
    "# Add the path to all images to the dataframe\n",
    "xray_labels_df['path'] = xray_labels_df['Image Index'].map(all_image_paths.get)\n",
    "\n",
    "# Fix Patient Age to be just a number\n",
    "xray_labels_df['Patient Age'] = xray_labels_df['Patient Age'].map(lambda x: int(x[:-1]))\n",
    "xray_labels_df.sample(3)"
   ]
  },
  {
   "cell_type": "markdown",
   "metadata": {},
   "source": [
    "Preprocessing:\n",
    "-------------"
   ]
  },
  {
   "cell_type": "code",
   "execution_count": 14,
   "metadata": {},
   "outputs": [
    {
     "data": {
      "image/png": "[encoded data removed]",
      "text/plain": [
       "<matplotlib.figure.Figure at 0x1155495c0>"
      ]
     },
     "metadata": {},
     "output_type": "display_data"
    }
   ],
   "source": [
    "# Get the number of each type of disease classification\n",
    "label_counts = xray_labels_df['Finding Labels'].value_counts()[:15]\n",
    "\n",
    "# plot it\n",
    "fig, ax1 = plt.subplots(1, 1, figsize=(12, 8))\n",
    "# Rotate and space out the labels to make them readable\n",
    "ax1.bar(np.arange(len(label_counts)) + 1.5, label_counts)\n",
    "ax1.set_xticks(np.arange(len(label_counts)) + 1.5)\n",
    "_ = ax1.set_xticklabels(label_counts.index, rotation=90)"
   ]
  },
  {
   "cell_type": "code",
   "execution_count": null,
   "metadata": {},
   "outputs": [],
   "source": []
  }
 ],
 "metadata": {
  "kernelspec": {
   "display_name": "Python 3",
   "language": "python",
   "name": "python3"
  },
  "language_info": {
   "codemirror_mode": {
    "name": "ipython",
    "version": 3
   },
   "file_extension": ".py",
   "mimetype": "text/x-python",
   "name": "python",
   "nbconvert_exporter": "python",
   "pygments_lexer": "ipython3",
   "version": "3.5.4"
  }
 },
 "nbformat": 4,
 "nbformat_minor": 2
}
